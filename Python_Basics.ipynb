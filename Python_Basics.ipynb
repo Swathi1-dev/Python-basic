{
  "nbformat": 4,
  "nbformat_minor": 0,
  "metadata": {
    "colab": {
      "provenance": []
    },
    "kernelspec": {
      "name": "python3",
      "display_name": "Python 3"
    },
    "language_info": {
      "name": "python"
    }
  },
  "cells": [
    {
      "cell_type": "markdown",
      "source": [
        "Theory Questions\n",
        "1. What is Python, and why is it popular?\n",
        "\n",
        "Ans: Python is an high-level interpreted programming language,it is simple and easy to learn .\n",
        "and it is popular because it has large numbers of libraries.\n",
        "\n",
        "2. What is an interpreter in Python?\n",
        "\n",
        "Ans: Python runs code line by line hence it is interpreter.\n",
        "\n",
        "3. What are pre-defined keywords in Python?\n",
        "\n",
        "Ans: Keywords are reserved words , which has special meaning defined already .\n",
        "eg:if,else,elif,break,set etc...\n",
        "\n",
        "4. Can keywords be used as variable names?\n",
        "\n",
        "Ans: No , we can't use the keywords as variable names.\n",
        "\n",
        "5. What is mutability in Python?\n",
        "\n",
        "Ans: Mutability means we can change the elements or values after creation.\n",
        "eg: lists,dictionaries\n",
        "\n",
        "6. Why are lists mutable, but tuples are immutable ?\n",
        "\n",
        "Ans: Lists are mutable because we can change the elements in lists even after creation.\n",
        "Tuples are immutable because we can't change the elements in tuples after creation.\n",
        "\n",
        "7. What is the difference between “==” and “is” operators in Python?\n",
        "\n",
        "Ans: \"==\" is an comparison operator , it checks whether two values are equal are not.\n",
        "\n",
        "Eg: print(10 == 10)\n",
        "\n",
        "\"is\" is an identity operator , it checks whether two variables are pointing to same memory location or not.\n",
        "eg:a=10\n",
        "b=a\n",
        "print(b is a)\n",
        "\n",
        "8. What are logical operators in Python?\n",
        "\n",
        "Ans: Logical operators are an operators where it combines two boolean expression.we have three types of logical operators ,i.e : and,or,not\n",
        "\n",
        "9. What is type casting in Python?\n",
        "\n",
        "Ans: Type casting is the process of converting the type of data into another type.\n",
        "eg:a=\"13\"\n",
        "int(a) #conveting a into int\n",
        "\n",
        "10. What is the difference between implicit and explicit type casting?\n",
        "\n",
        "Ans: Python itself converts the type of data into another type internally is known as implicit type casting.\n",
        "\n",
        "The process of converting the type of data into another type of data externally/manually is known as explicit type casting.\n",
        "\n",
        "11. What is the purpose of conditional statements in Python?\n",
        "\n",
        "Ans: Conditional statements is used to control the flow of execution based on condition.if the condition is true it will run set of block or else not.\n",
        "Eg: if , if-else,if-else-if,nested if , while .\n",
        "\n",
        "12. How does the elif statement work?\n",
        "\n",
        "Ans: elif(if-else-if) when ever we have multiple conditions to check we use elif statement .\n",
        "\n",
        "13. What is the difference between for and while loops?\n",
        "\n",
        "Ans: for loop will be used to iterate a sequence like range of numbers ,lists ,strings etc...\n",
        "while loop is used to run set of code until the condition is satisfied.\n",
        "\n",
        "14. Describe a scenario where a while loop is more suitable than a for loop?\n",
        "\n",
        "Ans: When we need to excecute set of code/block until the condition is true we will use while loop.\n",
        "\n",
        "\n",
        "\n",
        "\n",
        "\n",
        "\n",
        "\n",
        "\n",
        "\n",
        "\n",
        "\n",
        "\n",
        "\n",
        "\n"
      ],
      "metadata": {
        "id": "zPoO-b5gakPg"
      }
    },
    {
      "cell_type": "code",
      "execution_count": null,
      "metadata": {
        "id": "7XEoKe1uEtOd",
        "colab": {
          "base_uri": "https://localhost:8080/"
        },
        "outputId": "9c6caef6-f355-4b61-bf90-4438300bc6eb"
      },
      "outputs": [
        {
          "output_type": "stream",
          "name": "stdout",
          "text": [
            "Hello, World!\n"
          ]
        }
      ],
      "source": [
        "# Practical Questions\n",
        "#1.Write a Python program to print \"Hello, World!\n",
        "\n",
        "print(\"Hello, World!\")"
      ]
    },
    {
      "cell_type": "code",
      "source": [
        "#2 Write a Python program that displays your name and age\n",
        "\n",
        "name=\"Swathi\"\n",
        "age=24\n",
        "print(f\"name is '{name}' and age is '{age}'\")\n"
      ],
      "metadata": {
        "colab": {
          "base_uri": "https://localhost:8080/"
        },
        "id": "TP5JmZJYvzx0",
        "outputId": "6e79f3a0-515a-4b61-979c-14d692952fd8"
      },
      "execution_count": 3,
      "outputs": [
        {
          "output_type": "stream",
          "name": "stdout",
          "text": [
            "name is 'Swathi' and age is '24'\n"
          ]
        }
      ]
    },
    {
      "cell_type": "code",
      "source": [
        "#3. Write code to print all the pre-defined keywords in Python using the keyword library.\n",
        "import keyword as k\n",
        "print(k.kwlist)"
      ],
      "metadata": {
        "colab": {
          "base_uri": "https://localhost:8080/"
        },
        "id": "QI8WV8bEwCCA",
        "outputId": "847de708-4a5f-4e44-e81d-fbbe1df2c323"
      },
      "execution_count": null,
      "outputs": [
        {
          "output_type": "stream",
          "name": "stdout",
          "text": [
            "['False', 'None', 'True', 'and', 'as', 'assert', 'async', 'await', 'break', 'class', 'continue', 'def', 'del', 'elif', 'else', 'except', 'finally', 'for', 'from', 'global', 'if', 'import', 'in', 'is', 'lambda', 'nonlocal', 'not', 'or', 'pass', 'raise', 'return', 'try', 'while', 'with', 'yield']\n"
          ]
        }
      ]
    },
    {
      "cell_type": "code",
      "source": [
        "#4. Write a program that checks if a given word is a Python keyword.\n",
        "import keyword as k\n",
        "a=input(\"enter the keyword \")\n",
        "print(k.iskeyword(a))"
      ],
      "metadata": {
        "colab": {
          "base_uri": "https://localhost:8080/"
        },
        "id": "XfHR8l5mxdAv",
        "outputId": "924bd1fb-8976-4747-e572-cb135c495678"
      },
      "execution_count": null,
      "outputs": [
        {
          "output_type": "stream",
          "name": "stdout",
          "text": [
            "enter the keyword else\n",
            "True\n"
          ]
        }
      ]
    },
    {
      "cell_type": "code",
      "source": [
        "#5. Create a list and tuple in Python, and demonstrate how attempting to change an element works differently for each.\n",
        "\n",
        "list1=[1,2,3,4,\"gajalla\"]\n",
        "tuple1=(1,2,3,4,\"gajalla\")\n",
        "print(list1)\n",
        "print(tuple1)\n",
        "list1[3]=\"padhu\" #list is mutable , hence we can change the element value\n",
        "print(list1)\n",
        "tuple1[3]=\"padhu\" #Error - tuple is immutable ,hence we are unable to change the element value\n",
        "print(tuple1)"
      ],
      "metadata": {
        "colab": {
          "base_uri": "https://localhost:8080/",
          "height": 245
        },
        "id": "q_fl7QFgzOGt",
        "outputId": "7e5a9d14-8f3b-4af6-beae-c23da0748456"
      },
      "execution_count": null,
      "outputs": [
        {
          "output_type": "stream",
          "name": "stdout",
          "text": [
            "[1, 2, 3, 4, 'gajalla']\n",
            "(1, 2, 3, 4, 'gajalla')\n",
            "[1, 2, 3, 'padhu', 'gajalla']\n"
          ]
        },
        {
          "output_type": "error",
          "ename": "TypeError",
          "evalue": "'tuple' object does not support item assignment",
          "traceback": [
            "\u001b[0;31m---------------------------------------------------------------------------\u001b[0m",
            "\u001b[0;31mTypeError\u001b[0m                                 Traceback (most recent call last)",
            "\u001b[0;32m<ipython-input-24-44a3b40b99ff>\u001b[0m in \u001b[0;36m<cell line: 0>\u001b[0;34m()\u001b[0m\n\u001b[1;32m      7\u001b[0m \u001b[0mlist1\u001b[0m\u001b[0;34m[\u001b[0m\u001b[0;36m3\u001b[0m\u001b[0;34m]\u001b[0m\u001b[0;34m=\u001b[0m\u001b[0;34m\"padhu\"\u001b[0m \u001b[0;31m#list is mutable , hence we can change the element value\u001b[0m\u001b[0;34m\u001b[0m\u001b[0;34m\u001b[0m\u001b[0m\n\u001b[1;32m      8\u001b[0m \u001b[0mprint\u001b[0m\u001b[0;34m(\u001b[0m\u001b[0mlist1\u001b[0m\u001b[0;34m)\u001b[0m\u001b[0;34m\u001b[0m\u001b[0;34m\u001b[0m\u001b[0m\n\u001b[0;32m----> 9\u001b[0;31m \u001b[0mtuple1\u001b[0m\u001b[0;34m[\u001b[0m\u001b[0;36m3\u001b[0m\u001b[0;34m]\u001b[0m\u001b[0;34m=\u001b[0m\u001b[0;34m\"padhu\"\u001b[0m\u001b[0;34m\u001b[0m\u001b[0;34m\u001b[0m\u001b[0m\n\u001b[0m\u001b[1;32m     10\u001b[0m \u001b[0mprint\u001b[0m\u001b[0;34m(\u001b[0m\u001b[0mtuple1\u001b[0m\u001b[0;34m)\u001b[0m\u001b[0;34m\u001b[0m\u001b[0;34m\u001b[0m\u001b[0m\n",
            "\u001b[0;31mTypeError\u001b[0m: 'tuple' object does not support item assignment"
          ]
        }
      ]
    },
    {
      "cell_type": "code",
      "source": [
        "#6. Write a function to demonstrate the behavior of mutable and immutable arguments.\n",
        "\n",
        "def mut(n1):\n",
        "  a=n1\n",
        "  print(a)\n",
        "  a[2]=\"pwskills\" #mutable\n",
        "  print(a)\n",
        "\n",
        "mut([1,2,34,\"hello\",\"bye\"]) #list passing arguments in -we can change the element of list\n",
        "\n",
        "def immut(n1):\n",
        "  a=n1\n",
        "  print(a)\n",
        "  a[2]=\"pwskills\" #immutable - we can't change the element of tuple\n",
        "  print(a)\n",
        "\n",
        "immut((1,2,34,\"hello\",\"bye\"))#passing arguments in tuple"
      ],
      "metadata": {
        "id": "7iovPeEh0Nck",
        "colab": {
          "base_uri": "https://localhost:8080/",
          "height": 349
        },
        "outputId": "8ab1fbf6-daa0-4274-8944-2715a127a60d"
      },
      "execution_count": null,
      "outputs": [
        {
          "output_type": "stream",
          "name": "stdout",
          "text": [
            "[1, 2, 34, 'hello', 'bye']\n",
            "[1, 2, 'pwskills', 'hello', 'bye']\n",
            "(1, 2, 34, 'hello', 'bye')\n"
          ]
        },
        {
          "output_type": "error",
          "ename": "TypeError",
          "evalue": "'tuple' object does not support item assignment",
          "traceback": [
            "\u001b[0;31m---------------------------------------------------------------------------\u001b[0m",
            "\u001b[0;31mTypeError\u001b[0m                                 Traceback (most recent call last)",
            "\u001b[0;32m<ipython-input-7-fef7f087f4aa>\u001b[0m in \u001b[0;36m<cell line: 0>\u001b[0;34m()\u001b[0m\n\u001b[1;32m     15\u001b[0m   \u001b[0mprint\u001b[0m\u001b[0;34m(\u001b[0m\u001b[0ma\u001b[0m\u001b[0;34m)\u001b[0m\u001b[0;34m\u001b[0m\u001b[0;34m\u001b[0m\u001b[0m\n\u001b[1;32m     16\u001b[0m \u001b[0;34m\u001b[0m\u001b[0m\n\u001b[0;32m---> 17\u001b[0;31m \u001b[0mimmut\u001b[0m\u001b[0;34m(\u001b[0m\u001b[0;34m(\u001b[0m\u001b[0;36m1\u001b[0m\u001b[0;34m,\u001b[0m\u001b[0;36m2\u001b[0m\u001b[0;34m,\u001b[0m\u001b[0;36m34\u001b[0m\u001b[0;34m,\u001b[0m\u001b[0;34m\"hello\"\u001b[0m\u001b[0;34m,\u001b[0m\u001b[0;34m\"bye\"\u001b[0m\u001b[0;34m)\u001b[0m\u001b[0;34m)\u001b[0m\u001b[0;31m#passing arguments in tuple\u001b[0m\u001b[0;34m\u001b[0m\u001b[0;34m\u001b[0m\u001b[0m\n\u001b[0m",
            "\u001b[0;32m<ipython-input-7-fef7f087f4aa>\u001b[0m in \u001b[0;36mimmut\u001b[0;34m(n1)\u001b[0m\n\u001b[1;32m     12\u001b[0m   \u001b[0ma\u001b[0m\u001b[0;34m=\u001b[0m\u001b[0mn1\u001b[0m\u001b[0;34m\u001b[0m\u001b[0;34m\u001b[0m\u001b[0m\n\u001b[1;32m     13\u001b[0m   \u001b[0mprint\u001b[0m\u001b[0;34m(\u001b[0m\u001b[0ma\u001b[0m\u001b[0;34m)\u001b[0m\u001b[0;34m\u001b[0m\u001b[0;34m\u001b[0m\u001b[0m\n\u001b[0;32m---> 14\u001b[0;31m   \u001b[0ma\u001b[0m\u001b[0;34m[\u001b[0m\u001b[0;36m2\u001b[0m\u001b[0;34m]\u001b[0m\u001b[0;34m=\u001b[0m\u001b[0;34m\"pwskills\"\u001b[0m \u001b[0;31m#immutable - we can't change the element of tuple\u001b[0m\u001b[0;34m\u001b[0m\u001b[0;34m\u001b[0m\u001b[0m\n\u001b[0m\u001b[1;32m     15\u001b[0m   \u001b[0mprint\u001b[0m\u001b[0;34m(\u001b[0m\u001b[0ma\u001b[0m\u001b[0;34m)\u001b[0m\u001b[0;34m\u001b[0m\u001b[0;34m\u001b[0m\u001b[0m\n\u001b[1;32m     16\u001b[0m \u001b[0;34m\u001b[0m\u001b[0m\n",
            "\u001b[0;31mTypeError\u001b[0m: 'tuple' object does not support item assignment"
          ]
        }
      ]
    },
    {
      "cell_type": "code",
      "source": [
        "#7. Write a program that performs basic arithmetic operations on two user-input numbers.\n",
        "\n",
        "a=int(input(\"Enter First Number \"))\n",
        "b=int(input(\"Enter Second Number \"))\n",
        "print(f\"Addition of {a} and {b} is {a+b}\")\n",
        "print(f\"Subtraction of {a} and {b} is {a-b}\")\n",
        "print(f\"Multiplication of {a} and {b} is {a*b}\")\n",
        "print(f\"Power of {a} is {a**2}\")\n",
        "print(f\"Division of {a} and {b} is {a/b}\")\n",
        "print(f\"Division of {a} and {b} is {a//b} with out decimal point\")\n",
        "print(f\"Modulos of {a} and {b} is {a%b}\")"
      ],
      "metadata": {
        "colab": {
          "base_uri": "https://localhost:8080/"
        },
        "id": "tcAGm3cZj2bT",
        "outputId": "e5dac660-a407-4073-cc72-bf04ce998b42"
      },
      "execution_count": 5,
      "outputs": [
        {
          "output_type": "stream",
          "name": "stdout",
          "text": [
            "Enter First Number 10\n",
            "Enter Second Number 8\n",
            "Addition of 10 and 8 is 18\n",
            "Subtraction of 10 and 8 is 2\n",
            "Multiplication of 10 and 8 is 80\n",
            "Power of 10 is 100\n",
            "Division of 10 and 8 is 1.25\n",
            "Division of 10 and 8 is 1 with out decimal point\n",
            "Modulos of 10 and 8 is 2\n"
          ]
        }
      ]
    },
    {
      "cell_type": "code",
      "source": [
        "#8.Write a program to demonstrate the use of logical operators.\n",
        "a=60\n",
        "b=30\n",
        "c=70\n",
        "print(a>b and a>c) #two conditions should be true\n",
        "print(a>b or a>c) #any one condition should be true\n",
        "print(not a>b) #opposite"
      ],
      "metadata": {
        "colab": {
          "base_uri": "https://localhost:8080/"
        },
        "id": "JHMhXfgqlAPu",
        "outputId": "96aeeb60-9f01-46a9-e76f-09e9e07df486"
      },
      "execution_count": null,
      "outputs": [
        {
          "output_type": "stream",
          "name": "stdout",
          "text": [
            "False\n",
            "True\n",
            "False\n"
          ]
        }
      ]
    },
    {
      "cell_type": "code",
      "source": [
        "#9.Write a Python program to convert user input from string to integer, float, and boolean types.\n",
        "\n",
        "i=int(input(\"Enter num1 \"))\n",
        "f=float(input(\"Enter num2 \"))\n",
        "c=bool(input(\"Enter the true or false \"))\n",
        "\n",
        "print(i,type(i))\n",
        "print(f,type(f))\n",
        "print(c,type(c))"
      ],
      "metadata": {
        "colab": {
          "base_uri": "https://localhost:8080/"
        },
        "id": "UCZ6x6B1ltCS",
        "outputId": "f3b7a001-e287-4b03-db7b-24b780f285f9"
      },
      "execution_count": 11,
      "outputs": [
        {
          "output_type": "stream",
          "name": "stdout",
          "text": [
            "Enter num1 99\n",
            "Enter num2 87\n",
            "Enter the true or false 1\n",
            "99 <class 'int'>\n",
            "87.0 <class 'float'>\n",
            "True <class 'bool'>\n"
          ]
        }
      ]
    },
    {
      "cell_type": "code",
      "source": [
        "#10. Write code to demonstrate type casting with list elements.\n",
        "\n",
        "l=[12,23,34,\"45\",8.9,\"hello\",\"noon\"]\n",
        "print(l)\n",
        "l[3]=int(l[3]) #changing string to int\n",
        "print(l)"
      ],
      "metadata": {
        "colab": {
          "base_uri": "https://localhost:8080/"
        },
        "id": "U6FjqAeZo6Jy",
        "outputId": "6e27916c-1704-41b4-b839-3e77b1ee54b1"
      },
      "execution_count": null,
      "outputs": [
        {
          "output_type": "stream",
          "name": "stdout",
          "text": [
            "[12, 23, 34, '45', 8.9, 'hello', 'noon']\n",
            "[12, 23, 34, 45, 8.9, 'hello', 'noon']\n"
          ]
        }
      ]
    },
    {
      "cell_type": "code",
      "source": [
        "#11. Write a program that checks if a number is positive, negative, or zero.\n",
        "\n",
        "num=int(input(\"Enter the number \"))\n",
        "if num > 0 :\n",
        "  print(f\"{num} is positive\")\n",
        "elif num < 0 :\n",
        "  print(f\"{num} is negative\")\n",
        "elif num == 0:\n",
        "  print(f\"{num} is zero\")"
      ],
      "metadata": {
        "colab": {
          "base_uri": "https://localhost:8080/"
        },
        "id": "0RQeeuYYptsQ",
        "outputId": "9200aeda-0c28-4ab9-cba6-2d39125e4b0e"
      },
      "execution_count": null,
      "outputs": [
        {
          "output_type": "stream",
          "name": "stdout",
          "text": [
            "Enter the number -2\n",
            "-2 is negative\n"
          ]
        }
      ]
    },
    {
      "cell_type": "code",
      "source": [
        "# 12. Write a for loop to print numbers from 1 to 10.\n",
        "\n",
        "for i in range(1,11):\n",
        "  print(i)"
      ],
      "metadata": {
        "colab": {
          "base_uri": "https://localhost:8080/"
        },
        "id": "8Qthpl44qp_Y",
        "outputId": "13be98cf-cf45-4ffd-c508-fab7ac90c995"
      },
      "execution_count": null,
      "outputs": [
        {
          "output_type": "stream",
          "name": "stdout",
          "text": [
            "1\n",
            "2\n",
            "3\n",
            "4\n",
            "5\n",
            "6\n",
            "7\n",
            "8\n",
            "9\n",
            "10\n"
          ]
        }
      ]
    },
    {
      "cell_type": "code",
      "source": [
        "#13. Write a Python program to find the sum of all even numbers between 1 and 50.\n",
        "a=0\n",
        "for i in range(1,51):\n",
        "  if i %2 ==0:\n",
        "    a=a+i\n",
        "print(a)\n"
      ],
      "metadata": {
        "colab": {
          "base_uri": "https://localhost:8080/"
        },
        "id": "yG67LmUcq60m",
        "outputId": "eef9dc0e-73e0-42a4-857c-47a90e427504"
      },
      "execution_count": null,
      "outputs": [
        {
          "output_type": "stream",
          "name": "stdout",
          "text": [
            "650\n"
          ]
        }
      ]
    },
    {
      "cell_type": "code",
      "source": [
        "#14. Write a program to reverse a string using a while loop.\n",
        "\n",
        "a=\"pwskills\"\n",
        "length=len(a)-1\n",
        "print(a)\n",
        "while length >=0:\n",
        "  print(a[length],end=\"\")\n",
        "  length -=1\n"
      ],
      "metadata": {
        "colab": {
          "base_uri": "https://localhost:8080/"
        },
        "id": "6HMWD8LtrY4a",
        "outputId": "f6e5536d-cf4b-4868-b2ab-b28a78fdf31a"
      },
      "execution_count": 12,
      "outputs": [
        {
          "output_type": "stream",
          "name": "stdout",
          "text": [
            "pwskills\n",
            "sllikswp"
          ]
        }
      ]
    },
    {
      "cell_type": "code",
      "source": [
        "#15. Write a Python program to calculate the factorial of a number provided by the user using a while loop.\n",
        "\n",
        "fact=5\n",
        "result=1\n",
        "\n",
        "while fact>0:\n",
        "  result=result*fact\n",
        "  fact=fact-1\n",
        "\n",
        "print(result)\n",
        "\n"
      ],
      "metadata": {
        "colab": {
          "base_uri": "https://localhost:8080/"
        },
        "id": "1KFg_cwOs7GX",
        "outputId": "b6c4dfae-9adb-4677-98f6-064b12c7a9a5"
      },
      "execution_count": null,
      "outputs": [
        {
          "output_type": "stream",
          "name": "stdout",
          "text": [
            "120\n"
          ]
        }
      ]
    }
  ]
}